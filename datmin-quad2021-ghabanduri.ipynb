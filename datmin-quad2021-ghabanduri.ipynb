{
 "cells": [
  {
   "cell_type": "code",
   "execution_count": 1,
   "id": "503f8b56",
   "metadata": {
    "execution": {
     "iopub.execute_input": "2022-03-27T12:44:22.862870Z",
     "iopub.status.busy": "2022-03-27T12:44:22.862146Z",
     "iopub.status.idle": "2022-03-27T12:44:22.878009Z",
     "shell.execute_reply": "2022-03-27T12:44:22.878525Z",
     "shell.execute_reply.started": "2021-11-09T13:18:48.052019Z"
    },
    "papermill": {
     "duration": 0.034797,
     "end_time": "2022-03-27T12:44:22.878884",
     "exception": false,
     "start_time": "2022-03-27T12:44:22.844087",
     "status": "completed"
    },
    "tags": []
   },
   "outputs": [
    {
     "name": "stdout",
     "output_type": "stream",
     "text": [
      "../input/quadrathlon2021/train.csv\n",
      "../input/quadrathlon2021/test.csv\n"
     ]
    }
   ],
   "source": [
    "# Set up filepaths\n",
    "import os \n",
    "inputFolder = '../input/' \n",
    "for root, directories, filenames in os.walk(inputFolder): \n",
    "    for filename in filenames: print(os.path.join(root,filename))"
   ]
  },
  {
   "cell_type": "code",
   "execution_count": 2,
   "id": "d3d0b171",
   "metadata": {
    "_cell_guid": "b1076dfc-b9ad-4769-8c92-a6c4dae69d19",
    "_uuid": "8f2839f25d086af736a60e9eeb907d3b93b6e0e5",
    "execution": {
     "iopub.execute_input": "2022-03-27T12:44:22.900714Z",
     "iopub.status.busy": "2022-03-27T12:44:22.900023Z",
     "iopub.status.idle": "2022-03-27T12:44:24.037702Z",
     "shell.execute_reply": "2022-03-27T12:44:24.038259Z",
     "shell.execute_reply.started": "2021-11-09T13:18:48.061067Z"
    },
    "papermill": {
     "duration": 1.149851,
     "end_time": "2022-03-27T12:44:24.038446",
     "exception": false,
     "start_time": "2022-03-27T12:44:22.888595",
     "status": "completed"
    },
    "tags": []
   },
   "outputs": [],
   "source": [
    "import pandas as pd\n",
    "import matplotlib.pyplot as plt\n",
    "import numpy as np\n",
    "\n",
    "from sklearn.model_selection import train_test_split\n",
    "from sklearn.tree import DecisionTreeClassifier\n",
    "from sklearn.preprocessing import LabelEncoder\n",
    "from sklearn.metrics import accuracy_score, classification_report, confusion_matrix"
   ]
  },
  {
   "cell_type": "code",
   "execution_count": 3,
   "id": "0adba123",
   "metadata": {
    "execution": {
     "iopub.execute_input": "2022-03-27T12:44:24.059126Z",
     "iopub.status.busy": "2022-03-27T12:44:24.058167Z",
     "iopub.status.idle": "2022-03-27T12:44:24.182274Z",
     "shell.execute_reply": "2022-03-27T12:44:24.182862Z",
     "shell.execute_reply.started": "2021-11-09T13:18:48.074992Z"
    },
    "papermill": {
     "duration": 0.136147,
     "end_time": "2022-03-27T12:44:24.183057",
     "exception": false,
     "start_time": "2022-03-27T12:44:24.046910",
     "status": "completed"
    },
    "tags": []
   },
   "outputs": [],
   "source": [
    "olshop_file_path = '../input/quadrathlon2021/train.csv'\n",
    "olshop_data = pd.read_csv(olshop_file_path)\n",
    "\n",
    "test_data_filepath = '../input/quadrathlon2021/test.csv'\n",
    "test_data = pd.read_csv(test_data_filepath)"
   ]
  },
  {
   "cell_type": "code",
   "execution_count": 4,
   "id": "ba50ba94",
   "metadata": {
    "execution": {
     "iopub.execute_input": "2022-03-27T12:44:24.213208Z",
     "iopub.status.busy": "2022-03-27T12:44:24.212413Z",
     "iopub.status.idle": "2022-03-27T12:44:24.274600Z",
     "shell.execute_reply": "2022-03-27T12:44:24.275273Z",
     "shell.execute_reply.started": "2021-11-09T13:18:48.170572Z"
    },
    "papermill": {
     "duration": 0.083779,
     "end_time": "2022-03-27T12:44:24.275472",
     "exception": false,
     "start_time": "2022-03-27T12:44:24.191693",
     "status": "completed"
    },
    "tags": []
   },
   "outputs": [],
   "source": [
    "# encoding used categorical data types to int\n",
    "cols_to_transform = ['Jenis_Kelamin', 'Bulan', 'Wilayah', 'Jenis_Traffic', 'Tipe_Pengunjung', 'Akhir_Pekan']\n",
    "le = LabelEncoder()\n",
    "for col in cols_to_transform:\n",
    "    olshop_data[col] = le.fit_transform(olshop_data[col].astype('str'))\n",
    "    test_data[col] = le.fit_transform(test_data[col].astype('str'))\n",
    "\n",
    "#classifying and splitting X and y var\n",
    "y = olshop_data.Checkout\n",
    "olshop_features = ['Jenis_Kelamin', 'Produk', 'Durasi_Produk', 'Informasional', 'Durasi_Informasional', 'Administratif', 'Login', 'Promo_Klik', 'Favorit_Klik', 'Favorit_Tambah', 'Keranjang_Klik', 'Keranjang_Tambah', 'Rate_Pentalan', 'Rate_Keluar', 'Nilai_Halaman', 'Bulan', 'Hari_Spesial', 'Akhir_Pekan', 'Wilayah', 'Jenis_Traffic', 'Tipe_Pengunjung']\n",
    "X = olshop_data[olshop_features]\n",
    "train_X, val_X, train_y, val_y = train_test_split(X, y, random_state=1)"
   ]
  },
  {
   "cell_type": "code",
   "execution_count": 5,
   "id": "39b5a03d",
   "metadata": {
    "execution": {
     "iopub.execute_input": "2022-03-27T12:44:24.300931Z",
     "iopub.status.busy": "2022-03-27T12:44:24.300176Z",
     "iopub.status.idle": "2022-03-27T12:44:24.335196Z",
     "shell.execute_reply": "2022-03-27T12:44:24.335944Z",
     "shell.execute_reply.started": "2021-11-09T13:18:48.239681Z"
    },
    "papermill": {
     "duration": 0.052414,
     "end_time": "2022-03-27T12:44:24.336179",
     "exception": false,
     "start_time": "2022-03-27T12:44:24.283765",
     "status": "completed"
    },
    "tags": []
   },
   "outputs": [
    {
     "name": "stdout",
     "output_type": "stream",
     "text": [
      "0.9606401384083045\n",
      "[[1916   45]\n",
      " [  46  305]]\n",
      "              precision    recall  f1-score   support\n",
      "\n",
      "       False       0.98      0.98      0.98      1961\n",
      "        True       0.87      0.87      0.87       351\n",
      "\n",
      "    accuracy                           0.96      2312\n",
      "   macro avg       0.92      0.92      0.92      2312\n",
      "weighted avg       0.96      0.96      0.96      2312\n",
      "\n"
     ]
    }
   ],
   "source": [
    "olshop_train_model = DecisionTreeClassifier(random_state=1)\n",
    "olshop_train_model.fit(train_X, train_y)\n",
    "olshop_train_preds = olshop_train_model.predict(val_X)\n",
    "\n",
    "print(accuracy_score(olshop_train_preds, val_y))\n",
    "print(confusion_matrix(val_y, olshop_train_preds))\n",
    "print(classification_report(val_y,olshop_train_preds))"
   ]
  },
  {
   "cell_type": "code",
   "execution_count": 6,
   "id": "4c5753a1",
   "metadata": {
    "execution": {
     "iopub.execute_input": "2022-03-27T12:44:24.360689Z",
     "iopub.status.busy": "2022-03-27T12:44:24.358534Z",
     "iopub.status.idle": "2022-03-27T12:44:24.390016Z",
     "shell.execute_reply": "2022-03-27T12:44:24.389488Z",
     "shell.execute_reply.started": "2021-11-09T13:18:48.281307Z"
    },
    "papermill": {
     "duration": 0.044731,
     "end_time": "2022-03-27T12:44:24.390156",
     "exception": false,
     "start_time": "2022-03-27T12:44:24.345425",
     "status": "completed"
    },
    "tags": []
   },
   "outputs": [
    {
     "data": {
      "text/plain": [
       "DecisionTreeClassifier(random_state=1)"
      ]
     },
     "execution_count": 6,
     "metadata": {},
     "output_type": "execute_result"
    }
   ],
   "source": [
    "olshop_full_model = DecisionTreeClassifier(random_state=1)\n",
    "olshop_full_model.fit(X, y)"
   ]
  },
  {
   "cell_type": "code",
   "execution_count": 7,
   "id": "2e971917",
   "metadata": {
    "execution": {
     "iopub.execute_input": "2022-03-27T12:44:24.416327Z",
     "iopub.status.busy": "2022-03-27T12:44:24.413794Z",
     "iopub.status.idle": "2022-03-27T12:44:24.420137Z",
     "shell.execute_reply": "2022-03-27T12:44:24.419573Z",
     "shell.execute_reply.started": "2021-11-09T13:18:48.315345Z"
    },
    "papermill": {
     "duration": 0.020869,
     "end_time": "2022-03-27T12:44:24.420276",
     "exception": false,
     "start_time": "2022-03-27T12:44:24.399407",
     "status": "completed"
    },
    "tags": []
   },
   "outputs": [],
   "source": [
    "test_X = test_data[olshop_features]\n",
    "test_preds = olshop_full_model.predict(test_X)"
   ]
  },
  {
   "cell_type": "code",
   "execution_count": 8,
   "id": "4051a677",
   "metadata": {
    "execution": {
     "iopub.execute_input": "2022-03-27T12:44:24.446081Z",
     "iopub.status.busy": "2022-03-27T12:44:24.445016Z",
     "iopub.status.idle": "2022-03-27T12:44:24.486299Z",
     "shell.execute_reply": "2022-03-27T12:44:24.486850Z",
     "shell.execute_reply.started": "2021-11-09T13:18:48.32721Z"
    },
    "papermill": {
     "duration": 0.057588,
     "end_time": "2022-03-27T12:44:24.487039",
     "exception": false,
     "start_time": "2022-03-27T12:44:24.429451",
     "status": "completed"
    },
    "tags": []
   },
   "outputs": [
    {
     "data": {
      "text/html": [
       "<div>\n",
       "<style scoped>\n",
       "    .dataframe tbody tr th:only-of-type {\n",
       "        vertical-align: middle;\n",
       "    }\n",
       "\n",
       "    .dataframe tbody tr th {\n",
       "        vertical-align: top;\n",
       "    }\n",
       "\n",
       "    .dataframe thead th {\n",
       "        text-align: right;\n",
       "    }\n",
       "</style>\n",
       "<table border=\"1\" class=\"dataframe\">\n",
       "  <thead>\n",
       "    <tr style=\"text-align: right;\">\n",
       "      <th></th>\n",
       "      <th>ID</th>\n",
       "      <th>Checkout</th>\n",
       "    </tr>\n",
       "  </thead>\n",
       "  <tbody>\n",
       "    <tr>\n",
       "      <th>count</th>\n",
       "      <td>3080</td>\n",
       "      <td>3080</td>\n",
       "    </tr>\n",
       "    <tr>\n",
       "      <th>unique</th>\n",
       "      <td>3080</td>\n",
       "      <td>2</td>\n",
       "    </tr>\n",
       "    <tr>\n",
       "      <th>top</th>\n",
       "      <td>06d52498-2b95-4f28-99d6-217c0e11bda5</td>\n",
       "      <td>False</td>\n",
       "    </tr>\n",
       "    <tr>\n",
       "      <th>freq</th>\n",
       "      <td>1</td>\n",
       "      <td>2685</td>\n",
       "    </tr>\n",
       "  </tbody>\n",
       "</table>\n",
       "</div>"
      ],
      "text/plain": [
       "                                          ID Checkout\n",
       "count                                   3080     3080\n",
       "unique                                  3080        2\n",
       "top     06d52498-2b95-4f28-99d6-217c0e11bda5    False\n",
       "freq                                       1     2685"
      ]
     },
     "execution_count": 8,
     "metadata": {},
     "output_type": "execute_result"
    }
   ],
   "source": [
    "output = pd.DataFrame({'ID': test_data.ID,\n",
    "                       'Checkout': test_preds})\n",
    "output.to_csv('submission.csv', index=False)\n",
    "submission = pd.read_csv('./submission.csv')\n",
    "submission.describe()"
   ]
  }
 ],
 "metadata": {
  "kernelspec": {
   "display_name": "Python 3",
   "language": "python",
   "name": "python3"
  },
  "language_info": {
   "codemirror_mode": {
    "name": "ipython",
    "version": 3
   },
   "file_extension": ".py",
   "mimetype": "text/x-python",
   "name": "python",
   "nbconvert_exporter": "python",
   "pygments_lexer": "ipython3",
   "version": "3.7.10"
  },
  "papermill": {
   "default_parameters": {},
   "duration": 12.157558,
   "end_time": "2022-03-27T12:44:25.207879",
   "environment_variables": {},
   "exception": null,
   "input_path": "__notebook__.ipynb",
   "output_path": "__notebook__.ipynb",
   "parameters": {},
   "start_time": "2022-03-27T12:44:13.050321",
   "version": "2.3.3"
  }
 },
 "nbformat": 4,
 "nbformat_minor": 5
}
